{
 "cells": [
  {
   "cell_type": "code",
   "execution_count": 1,
   "metadata": {},
   "outputs": [
    {
     "name": "stdout",
     "output_type": "stream",
     "text": [
      "Requirement already satisfied: sqlalchemy in c:\\users\\sjaysawa\\appdata\\local\\programs\\python\\python311\\lib\\site-packages (2.0.30)\n",
      "Requirement already satisfied: typing-extensions>=4.6.0 in c:\\users\\sjaysawa\\appdata\\local\\programs\\python\\python311\\lib\\site-packages (from sqlalchemy) (4.11.0)\n",
      "Requirement already satisfied: greenlet!=0.4.17 in c:\\users\\sjaysawa\\appdata\\local\\programs\\python\\python311\\lib\\site-packages (from sqlalchemy) (3.0.3)\n"
     ]
    }
   ],
   "source": [
    "! pip install sqlalchemy"
   ]
  },
  {
   "cell_type": "code",
   "execution_count": 2,
   "metadata": {},
   "outputs": [],
   "source": [
    "from sqlalchemy import create_engine, Column, Integer, String\n",
    "from sqlalchemy.ext.declarative import declarative_base\n",
    "from sqlalchemy.orm import sessionmaker\n"
   ]
  },
  {
   "cell_type": "code",
   "execution_count": 3,
   "metadata": {},
   "outputs": [],
   "source": [
    "engine = create_engine('sqlite:///:memory:')\n"
   ]
  },
  {
   "cell_type": "code",
   "execution_count": 4,
   "metadata": {},
   "outputs": [
    {
     "name": "stderr",
     "output_type": "stream",
     "text": [
      "C:\\Users\\sjaysawa\\AppData\\Local\\Temp\\ipykernel_12408\\3864161828.py:1: MovedIn20Warning: The ``declarative_base()`` function is now available as sqlalchemy.orm.declarative_base(). (deprecated since: 2.0) (Background on SQLAlchemy 2.0 at: https://sqlalche.me/e/b8d9)\n",
      "  Base = declarative_base()\n"
     ]
    }
   ],
   "source": [
    "Base = declarative_base()\n"
   ]
  },
  {
   "cell_type": "code",
   "execution_count": 5,
   "metadata": {},
   "outputs": [],
   "source": [
    "class User(Base):\n",
    "    __tablename__ = 'users'\n",
    "    id = Column(Integer, primary_key=True)\n",
    "    name = Column(String)\n",
    "    age = Column(Integer)\n"
   ]
  },
  {
   "cell_type": "code",
   "execution_count": 6,
   "metadata": {},
   "outputs": [],
   "source": [
    "Base.metadata.create_all(engine)\n"
   ]
  },
  {
   "cell_type": "code",
   "execution_count": 7,
   "metadata": {},
   "outputs": [],
   "source": [
    "Session = sessionmaker(bind=engine)\n",
    "session = Session()\n"
   ]
  },
  {
   "cell_type": "code",
   "execution_count": 8,
   "metadata": {},
   "outputs": [],
   "source": [
    "new_user = User(name='Alice', age=30)\n",
    "session.add(new_user)\n",
    "session.commit()\n"
   ]
  },
  {
   "cell_type": "code",
   "execution_count": 15,
   "metadata": {},
   "outputs": [],
   "source": [
    "new_user2 = User(name=\"Mohit\", age=25)\n",
    "session.add(new_user2)\n",
    "session.commit()"
   ]
  },
  {
   "cell_type": "code",
   "execution_count": 16,
   "metadata": {},
   "outputs": [
    {
     "name": "stdout",
     "output_type": "stream",
     "text": [
      "Mohit 25\n"
     ]
    }
   ],
   "source": [
    "users = session.query(User).all()\n",
    "for user in users:\n",
    "    print(user.name, user.age)\n"
   ]
  },
  {
   "cell_type": "code",
   "execution_count": 18,
   "metadata": {},
   "outputs": [],
   "source": [
    "user = session.query(User).filter_by(name='Mohit').first()\n",
    "user.age = 31\n",
    "session.commit()\n"
   ]
  },
  {
   "cell_type": "code",
   "execution_count": 19,
   "metadata": {},
   "outputs": [
    {
     "name": "stdout",
     "output_type": "stream",
     "text": [
      "Mohit 31\n"
     ]
    }
   ],
   "source": [
    "for user in users:\n",
    "    print(user.name, user.age)"
   ]
  },
  {
   "cell_type": "code",
   "execution_count": 12,
   "metadata": {},
   "outputs": [],
   "source": [
    "user = session.query(User).filter_by(name='Alice').first()\n",
    "session.delete(user)\n",
    "session.commit()\n"
   ]
  },
  {
   "cell_type": "code",
   "execution_count": 13,
   "metadata": {},
   "outputs": [
    {
     "name": "stdout",
     "output_type": "stream",
     "text": [
      "Alice 31\n"
     ]
    }
   ],
   "source": [
    "for user in users:\n",
    "    print(user.name, user.age)"
   ]
  },
  {
   "cell_type": "code",
   "execution_count": 14,
   "metadata": {},
   "outputs": [
    {
     "name": "stdout",
     "output_type": "stream",
     "text": [
      "Alice 30\n",
      "Alice 31\n"
     ]
    },
    {
     "name": "stderr",
     "output_type": "stream",
     "text": [
      "C:\\Users\\sjaysawa\\AppData\\Local\\Temp\\ipykernel_12408\\2001078471.py:9: MovedIn20Warning: The ``declarative_base()`` function is now available as sqlalchemy.orm.declarative_base(). (deprecated since: 2.0) (Background on SQLAlchemy 2.0 at: https://sqlalche.me/e/b8d9)\n",
      "  Base = declarative_base()\n"
     ]
    }
   ],
   "source": [
    "from sqlalchemy import create_engine, Column, Integer, String\n",
    "from sqlalchemy.ext.declarative import declarative_base\n",
    "from sqlalchemy.orm import sessionmaker\n",
    "\n",
    "# Create an in-memory SQLite engine\n",
    "engine = create_engine('sqlite:///:memory:')\n",
    "\n",
    "# Define a base class\n",
    "Base = declarative_base()\n",
    "\n",
    "# Define the User model\n",
    "class User(Base):\n",
    "    __tablename__ = 'users'\n",
    "    id = Column(Integer, primary_key=True)\n",
    "    name = Column(String)\n",
    "    age = Column(Integer)\n",
    "\n",
    "# Create the users table\n",
    "Base.metadata.create_all(engine)\n",
    "\n",
    "# Create a session\n",
    "Session = sessionmaker(bind=engine)\n",
    "session = Session()\n",
    "\n",
    "# Add a new user\n",
    "new_user = User(name='Alice', age=30)\n",
    "session.add(new_user)\n",
    "session.commit()\n",
    "\n",
    "# Query all users\n",
    "users = session.query(User).all()\n",
    "for user in users:\n",
    "    print(user.name, user.age)\n",
    "\n",
    "# Update a user\n",
    "user = session.query(User).filter_by(name='Alice').first()\n",
    "user.age = 31\n",
    "session.commit()\n",
    "\n",
    "# Query all users after update\n",
    "users = session.query(User).all()\n",
    "for user in users:\n",
    "    print(user.name, user.age)\n",
    "\n",
    "# Delete a user\n",
    "user = session.query(User).filter_by(name='Alice').first()\n",
    "session.delete(user)\n",
    "session.commit()\n",
    "\n",
    "# Query all users after delete\n",
    "users = session.query(User).all()\n",
    "for user in users:\n",
    "    print(user.name, user.age)\n"
   ]
  },
  {
   "cell_type": "code",
   "execution_count": 20,
   "metadata": {},
   "outputs": [
    {
     "name": "stdout",
     "output_type": "stream",
     "text": [
      "Mohit 31\n",
      "Alice 30\n",
      "Bob 25\n",
      "Charlie 35\n",
      "David 28\n",
      "Eve 22\n"
     ]
    }
   ],
   "source": [
    "# Add multiple users\n",
    "users = [\n",
    "    User(name='Alice', age=30),\n",
    "    User(name='Bob', age=25),\n",
    "    User(name='Charlie', age=35),\n",
    "    User(name='David', age=28),\n",
    "    User(name='Eve', age=22)\n",
    "]\n",
    "\n",
    "session.add_all(users)\n",
    "session.commit()\n",
    "\n",
    "# Query all users\n",
    "all_users = session.query(User).all()\n",
    "for user in all_users:\n",
    "    print(user.name, user.age)"
   ]
  }
 ],
 "metadata": {
  "kernelspec": {
   "display_name": "Python 3",
   "language": "python",
   "name": "python3"
  },
  "language_info": {
   "codemirror_mode": {
    "name": "ipython",
    "version": 3
   },
   "file_extension": ".py",
   "mimetype": "text/x-python",
   "name": "python",
   "nbconvert_exporter": "python",
   "pygments_lexer": "ipython3",
   "version": "3.11.3"
  },
  "orig_nbformat": 4,
  "vscode": {
   "interpreter": {
    "hash": "3d90f91691574726f0dc804cd37fef132331e0ba573451b2aa3edf0d7d40f73c"
   }
  }
 },
 "nbformat": 4,
 "nbformat_minor": 2
}
